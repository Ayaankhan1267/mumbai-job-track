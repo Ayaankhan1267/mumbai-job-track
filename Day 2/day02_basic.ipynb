{
 "cells": [
  {
   "cell_type": "code",
   "execution_count": null,
   "metadata": {},
   "outputs": [],
   "source": [
    "# Example: Age checker\n",
    "age = int(input(\"Enter your age: \"))\n",
    "\n",
    "if age < 18:\n",
    "    print(\"You are a minor.\")\n",
    "elif age < 60:\n",
    "    print(\"You are an adult.\")\n",
    "else:\n",
    "    print(\"You are a senior.\")"
   ]
  },
  {
   "cell_type": "code",
   "execution_count": null,
   "metadata": {},
   "outputs": [],
   "source": [
    "# Example: Login system\n",
    "username = \"ayaan\"\n",
    "password = \"1234\"\n",
    "\n",
    "user = input(\"Enter username: \")\n",
    "pwd = input(\"Enter password: \")\n",
    "\n",
    "if user == username and pwd == password:\n",
    "    print(\"Login successful!\")\n",
    "else:\n",
    "    print(\"Invalid credentials.\")\n"
   ]
  },
  {
   "cell_type": "code",
   "execution_count": null,
   "metadata": {},
   "outputs": [],
   "source": [
    "# Example: Login system\n",
    "username = \"ayaan\"\n",
    "password = \"1234\"\n",
    "\n",
    "user = input(\"Enter username: \")\n",
    "pwd = input(\"Enter password: \")\n",
    "\n",
    "if user == username and pwd == password:\n",
    "    print(\"Login successful!\")\n",
    "else:\n",
    "    print(\"Invalid credentials.\")\n"
   ]
  },
  {
   "cell_type": "code",
   "execution_count": null,
   "metadata": {},
   "outputs": [],
   "source": [
    "# Example: Guess the number\n",
    "import random \n",
    "top,bottom = 1,10 \n",
    "print(\"Guess number between 1 to 10\") \n",
    "while True: \n",
    "    rdm = random.randint(top,bottom) \n",
    "    guess = int(input(\"Enter the guess : \")) \n",
    "    if guess > 10 : \n",
    "        print(\"Error! Enter number between 1 to 10\") \n",
    "    elif guess > rdm: \n",
    "        print(\"The guess is high\") \n",
    "    elif guess < rdm: \n",
    "        print(\"The guess number is low\") \n",
    "    elif guess == rdm: \n",
    "        print(\"The guess is correct\") \n",
    "        break\n"
   ]
  },
  {
   "cell_type": "code",
   "execution_count": null,
   "metadata": {},
   "outputs": [],
   "source": [
    "# Example: Multiplication Table\n",
    "num = int(input(\"Enter a number: \"))\n",
    "\n",
    "for i in range(1, 11):\n",
    "    print(num, \"x\", i, \"=\", num * i)\n"
   ]
  }
 ],
 "metadata": {
  "language_info": {
   "name": "python"
  },
  "orig_nbformat": 4
 },
 "nbformat": 4,
 "nbformat_minor": 2
}
