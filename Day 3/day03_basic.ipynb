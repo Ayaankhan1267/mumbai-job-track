{
 "cells": [
  {
   "cell_type": "code",
   "execution_count": 11,
   "metadata": {},
   "outputs": [
    {
     "name": "stdout",
     "output_type": "stream",
     "text": [
      "['Learn Python', 'Khan']\n",
      "['Khan']\n"
     ]
    }
   ],
   "source": [
    "tasks = []\n",
    "\n",
    "# Create\n",
    "tasks.append(\"Learn Python\")\n",
    "tasks.append(\"Khan\")\n",
    "\n",
    "# Read\n",
    "print(tasks)\n",
    "\n",
    "# Update\n",
    "tasks[0] = \"Learn Python - Day 3 CRUD\"\n",
    "\n",
    "# Delete\n",
    "tasks.remove(\"Learn Python - Day 3 CRUD\")\n",
    "print(tasks)\n"
   ]
  },
  {
   "cell_type": "code",
   "execution_count": 17,
   "metadata": {},
   "outputs": [
    {
     "name": "stdout",
     "output_type": "stream",
     "text": [
      "{'phone': '12345', 'city': 'Mumbai'}\n",
      "{}\n"
     ]
    }
   ],
   "source": [
    "contacts = {}\n",
    "\n",
    "# Create\n",
    "contacts[\"ayaan\"] = {\"phone\": \"12345\", \"city\": \"Mumbai\"}\n",
    "\n",
    "# Read\n",
    "print(contacts[\"ayaan\"])\n",
    "\n",
    "# Update\n",
    "contacts[\"ayaan\"][\"city\"] = \"Delhi\"\n",
    "\n",
    "# Delete\n",
    "del contacts[\"ayaan\"]\n",
    "\n",
    "print(contacts)"
   ]
  },
  {
   "cell_type": "code",
   "execution_count": 21,
   "metadata": {},
   "outputs": [
    {
     "name": "stdout",
     "output_type": "stream",
     "text": [
      "Day 3 CRUD started\n",
      "Day 3 CRUD started Added new line!\n"
     ]
    }
   ],
   "source": [
    "# Create & Write\n",
    "with open(\"notes.txt\", \"w\") as f:\n",
    "    f.write(\"Day 3 CRUD started\")\n",
    "\n",
    "# Read\n",
    "with open(\"notes.txt\", \"r\") as f:\n",
    "    print(f.read())\n",
    "\n",
    "# Update (append)\n",
    "with open(\"notes.txt\", \"a\") as f:\n",
    "    f.write(\" Added new line!\")\n",
    "\n",
    "with open(\"notes.txt\",\"r\") as f:\n",
    "    print(f.read())\n",
    "\n",
    "# Delete\n",
    "import os\n",
    "os.remove(\"notes.txt\")\n"
   ]
  },
  {
   "cell_type": "code",
   "execution_count": 25,
   "metadata": {},
   "outputs": [
    {
     "name": "stdout",
     "output_type": "stream",
     "text": [
      "Contact Ayaan added.\n",
      "Ayaan : 12345\n",
      "Contact Ayaan updated.\n",
      "Ayaan : 54321\n",
      "Contact Ayaan deleted.\n"
     ]
    }
   ],
   "source": [
    "contacts = {}\n",
    "\n",
    "def create_contact(name, phone):\n",
    "    contacts[name] = phone\n",
    "    print(f\"Contact {name} added.\")\n",
    "\n",
    "def read_contacts():\n",
    "    for name, phone in contacts.items():\n",
    "        print(name, \":\", phone)\n",
    "\n",
    "def update_contact(name, new_phone):\n",
    "    if name in contacts:\n",
    "        contacts[name] = new_phone\n",
    "        print(f\"Contact {name} updated.\")\n",
    "    else:\n",
    "        print(\"Contact not found.\")\n",
    "\n",
    "def delete_contact(name):\n",
    "    if name in contacts:\n",
    "        del contacts[name]\n",
    "        print(f\"Contact {name} deleted.\")\n",
    "    else:\n",
    "        print(\"Contact not found.\")\n",
    "\n",
    "# Demo\n",
    "create_contact(\"Ayaan\", \"12345\")\n",
    "read_contacts()\n",
    "update_contact(\"Ayaan\", \"54321\")\n",
    "read_contacts()\n",
    "delete_contact(\"Ayaan\")\n",
    "read_contacts()\n"
   ]
  }
 ],
 "metadata": {
  "kernelspec": {
   "display_name": "venv",
   "language": "python",
   "name": "python3"
  },
  "language_info": {
   "codemirror_mode": {
    "name": "ipython",
    "version": 3
   },
   "file_extension": ".py",
   "mimetype": "text/x-python",
   "name": "python",
   "nbconvert_exporter": "python",
   "pygments_lexer": "ipython3",
   "version": "3.13.7"
  },
  "orig_nbformat": 4
 },
 "nbformat": 4,
 "nbformat_minor": 2
}
