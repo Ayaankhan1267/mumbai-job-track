{
 "cells": [
  {
   "cell_type": "code",
   "execution_count": 3,
   "metadata": {},
   "outputs": [
    {
     "name": "stdout",
     "output_type": "stream",
     "text": [
      "Ayaan 22\n"
     ]
    }
   ],
   "source": [
    "# variables\n",
    "name = \"Ayaan\"\n",
    "age = 22\n",
    "print (name,age)"
   ]
  },
  {
   "cell_type": "code",
   "execution_count": 8,
   "metadata": {},
   "outputs": [
    {
     "name": "stdout",
     "output_type": "stream",
     "text": [
      "Fahrenheit: 77.0\n"
     ]
    }
   ],
   "source": [
    "c = float(input(\"Enter °C: \"))\n",
    "f = (c * 9/5) + 32\n",
    "print(\"Fahrenheit:\", f)"
   ]
  },
  {
   "cell_type": "code",
   "execution_count": 9,
   "metadata": {},
   "outputs": [
    {
     "name": "stdout",
     "output_type": "stream",
     "text": [
      "Each person pays: 315.0\n"
     ]
    }
   ],
   "source": [
    "bill = float(input(\"Bill: \"))\n",
    "tip = int(input(\"Tip %: \"))\n",
    "people = int(input(\"People: \"))\n",
    "total = bill + (bill * tip / 100)\n",
    "print(\"Each person pays:\", total/people)"
   ]
  },
  {
   "cell_type": "code",
   "execution_count": 10,
   "metadata": {},
   "outputs": [
    {
     "name": "stdout",
     "output_type": "stream",
     "text": [
      "Grade : D\n"
     ]
    }
   ],
   "source": [
    "marks = int(input(\"Enter Your Marks : \"))\n",
    "\n",
    "if marks >= 90:\n",
    "    print(\"Grade : A\")\n",
    "elif marks >= 75:\n",
    "    print(\"Grade : B\")\n",
    "elif marks >= 60:\n",
    "    print(\"Grade : C\")\n",
    "elif marks >= 40:\n",
    "    print(\"Grade : D\")\n",
    "else:\n",
    "    print(\"Grade : F (Fail)\")"
   ]
  },
  {
   "cell_type": "code",
   "execution_count": 21,
   "metadata": {},
   "outputs": [
    {
     "name": "stdout",
     "output_type": "stream",
     "text": [
      "<class 'bool'>\n"
     ]
    }
   ],
   "source": [
    "x = True\n",
    "print(type(x))"
   ]
  },
  {
   "cell_type": "code",
   "execution_count": 36,
   "metadata": {},
   "outputs": [
    {
     "name": "stdout",
     "output_type": "stream",
     "text": [
      "Length of word: 5\n",
      "Uppercase: ABCDE\n",
      "Last 2 letters: ace\n"
     ]
    }
   ],
   "source": [
    "word = input(\"Enter a word: \")\n",
    "\n",
    "print(\"Length of word:\", len(word))\n",
    "print(\"Uppercase:\", word.upper())\n",
    "print(\"Last 2 letters:\", word[::2])   # slicing"
   ]
  }
 ],
 "metadata": {
  "kernelspec": {
   "display_name": "venv",
   "language": "python",
   "name": "python3"
  },
  "language_info": {
   "codemirror_mode": {
    "name": "ipython",
    "version": 3
   },
   "file_extension": ".py",
   "mimetype": "text/x-python",
   "name": "python",
   "nbconvert_exporter": "python",
   "pygments_lexer": "ipython3",
   "version": "3.13.7"
  },
  "orig_nbformat": 4
 },
 "nbformat": 4,
 "nbformat_minor": 2
}
