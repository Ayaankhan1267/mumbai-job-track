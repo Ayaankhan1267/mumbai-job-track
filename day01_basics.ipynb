{
 "cells": [
  {
   "cell_type": "code",
   "execution_count": 3,
   "metadata": {},
   "outputs": [
    {
     "name": "stdout",
     "output_type": "stream",
     "text": [
      "Ayaan 22\n"
     ]
    }
   ],
   "source": [
    "# variables\n",
    "name = \"Ayaan\"\n",
    "age = 22\n",
    "print (name,age)"
   ]
  },
  {
   "cell_type": "code",
   "execution_count": 8,
   "metadata": {},
   "outputs": [
    {
     "name": "stdout",
     "output_type": "stream",
     "text": [
      "Fahrenheit: 77.0\n"
     ]
    }
   ],
   "source": [
    "c = float(input(\"Enter °C: \"))\n",
    "f = (c * 9/5) + 32\n",
    "print(\"Fahrenheit:\", f)"
   ]
  },
  {
   "cell_type": "code",
   "execution_count": 9,
   "metadata": {},
   "outputs": [
    {
     "name": "stdout",
     "output_type": "stream",
     "text": [
      "Each person pays: 315.0\n"
     ]
    }
   ],
   "source": [
    "bill = float(input(\"Bill: \"))\n",
    "tip = int(input(\"Tip %: \"))\n",
    "people = int(input(\"People: \"))\n",
    "total = bill + (bill * tip / 100)\n",
    "print(\"Each person pays:\", total/people)"
   ]
  },
  {
   "cell_type": "code",
   "execution_count": 12,
   "metadata": {},
   "outputs": [
    {
     "name": "stdout",
     "output_type": "stream",
     "text": [
      "Grade : F (Fail)\n"
     ]
    }
   ],
   "source": [
    "marks = int(input(\"Enter Your Marks : \"))\n",
    "\n",
    "if marks >= 90:\n",
    "    print(\"Grade : A\")\n",
    "elif marks >= 75:\n",
    "    print(\"Grade : B\")\n",
    "elif marks >= 60:\n",
    "    print(\"Grade : C\")\n",
    "elif marks >= 40:\n",
    "    print(\"Grade : D\")\n",
    "else:\n",
    "    print(\"Grade : F (Fail)\")"
   ]
  },
  {
   "cell_type": "code",
   "execution_count": 21,
   "metadata": {},
   "outputs": [
    {
     "name": "stdout",
     "output_type": "stream",
     "text": [
      "<class 'bool'>\n"
     ]
    }
   ],
   "source": [
    "x = True\n",
    "print(type(x))"
   ]
  },
  {
   "cell_type": "code",
   "execution_count": 36,
   "metadata": {},
   "outputs": [
    {
     "name": "stdout",
     "output_type": "stream",
     "text": [
      "Length of word: 5\n",
      "Uppercase: ABCDE\n",
      "Last 2 letters: ace\n"
     ]
    }
   ],
   "source": [
    "word = input(\"Enter a word: \")\n",
    "\n",
    "print(\"Length of word:\", len(word))\n",
    "print(\"Uppercase:\", word.upper())\n",
    "print(\"Last 2 letters:\", word[::2])   # slicing"
   ]
  },
  {
   "cell_type": "code",
   "execution_count": 11,
   "metadata": {},
   "outputs": [
    {
     "name": "stdout",
     "output_type": "stream",
     "text": [
      "Even or Odd Checker\n",
      "The number  23  is Odd\n"
     ]
    }
   ],
   "source": [
    "#1. Even or Odd Checker\n",
    "print(\"Even or Odd Checker\")\n",
    "EO = int(input(\"Enter a number : \"))\n",
    "if EO % 2 == 0:\n",
    "    print(\"The number \",EO,\" is Even\")\n",
    "else :\n",
    "    print(\"The number \",EO,\" is Odd\")"
   ]
  },
  {
   "cell_type": "code",
   "execution_count": 14,
   "metadata": {},
   "outputs": [
    {
     "name": "stdout",
     "output_type": "stream",
     "text": [
      "Age Group Classifier\n",
      "Teen\n"
     ]
    }
   ],
   "source": [
    "#2. Age Group Classifier\n",
    "print(\"Age Group Classifier\")\n",
    "age = int(input(\"Enter your age : \"))\n",
    "if age <= 12:\n",
    "    print(\"Child\")\n",
    "elif age <= 19:\n",
    "    print(\"Teen\")\n",
    "elif age <= 59:\n",
    "    print(\"Adult\")\n",
    "else:   \n",
    "    print(\"Senior\")"
   ]
  },
  {
   "cell_type": "code",
   "execution_count": 26,
   "metadata": {},
   "outputs": [
    {
     "name": "stdout",
     "output_type": "stream",
     "text": [
      "Your First Letter :  f\n",
      "Your Last Letter :  f\n",
      "Your reverse word :  f\n"
     ]
    }
   ],
   "source": [
    "#3. Word Analyzer\n",
    "name = str(input(\"Enter your word : \"))\n",
    "print(\"Your First Letter : \", name[0:1])\n",
    "print(\"Your Last Letter : \", name[-1])\n",
    "print(\"Your reverse word : \", name[::-1])"
   ]
  },
  {
   "cell_type": "code",
   "execution_count": 29,
   "metadata": {},
   "outputs": [
    {
     "name": "stdout",
     "output_type": "stream",
     "text": [
      "The Guessed number is higher\n"
     ]
    }
   ],
   "source": [
    "#4. Number Guessing (mini-game)\n",
    "secret = 13\n",
    "guess = int(input(\"Enter your guess number : \"))\n",
    "\n",
    "if guess > secret :\n",
    "    print(\"The Guessed number is higher\")\n",
    "elif guess < secret:\n",
    "    print(\"The Guessed number is lower\")\n",
    "else :\n",
    "    print(\"Correct\")"
   ]
  },
  {
   "cell_type": "code",
   "execution_count": null,
   "metadata": {},
   "outputs": [],
   "source": [
    "import random\n",
    "\n",
    "print(\"🎯 Number Guessing Game\")\n",
    "\n",
    "# 1) Choose the range for the secret number\n",
    "LOW, HIGH = 1, 100\n",
    "\n",
    "# 2) Pick a random secret number inside the range\n",
    "secret = random.randint(LOW, HIGH)\n",
    "\n",
    "# 3) Track how many valid guesses the player makes\n",
    "attempts = 0\n",
    "\n",
    "while True:\n",
    "    # 4) Ask the user for a guess\n",
    "    raw = input(f\"Guess a number between {LOW} and {HIGH}: \")\n",
    "\n",
    "    # 5) Validate: make sure it's a whole number\n",
    "    try:\n",
    "        guess = int(raw)\n",
    "    except ValueError:\n",
    "        print(\"⚠️ Please enter a whole number (e.g., 17).\")\n",
    "        continue  # go back to the top of the loop\n",
    "\n",
    "    # 6) Optional: enforce the range; don't count out-of-range guesses\n",
    "    if not (LOW <= guess <= HIGH):\n",
    "        print(f\"⚠️ Stay within {LOW}–{HIGH}. Try again.\")\n",
    "        continue\n",
    "\n",
    "    # 7) Count this as a valid attempt\n",
    "    attempts += 1\n",
    "\n",
    "    # 8) Compare and give feedback\n",
    "    if guess < secret:\n",
    "        print(\"Too low! Try again.\")\n",
    "    elif guess > secret:\n",
    "        print(\"Too high! Try again.\")\n",
    "    else:\n",
    "        # 9) Correct — celebrate and exit the loop\n",
    "        print(f\"✅ Correct! The number was {secret}. You got it in {attempts} attempts.\")\n",
    "        break\n"
   ]
  },
  {
   "cell_type": "code",
   "execution_count": 4,
   "metadata": {},
   "outputs": [
    {
     "name": "stdout",
     "output_type": "stream",
     "text": [
      "The difference is :  -50.0\n"
     ]
    }
   ],
   "source": [
    "#5. Simple Calculator\n",
    "\n",
    "while True:\n",
    "    num1 = float(input(\"Enter the first number : \"))\n",
    "    num2 = float(input(\"Enter the second number : \"))\n",
    "\n",
    "    select = str(input(\"Select the operation(Enter + , - , * , /) : \"))\n",
    "\n",
    "    if select == \"+\":\n",
    "        print(\"The addition is : \",num1+num2)\n",
    "        break\n",
    "    elif select == \"-\":\n",
    "        print(\"The difference is : \",num1-num2)\n",
    "        break\n",
    "    elif select == \"*\":\n",
    "        print(\"The product is : \",num1*num2)\n",
    "        break\n",
    "    elif select == \"/\":\n",
    "     if num2 == 0:\n",
    "        print(\"❌ Error! Cannot divide by zero.\")\n",
    "        continue\n",
    "     else:\n",
    "        print(\"The division is : \", num1 / num2)\n",
    "        break\n",
    "    else:\n",
    "        print(\"Error! Enter Operations\")\n",
    "        continue"
   ]
  },
  {
   "cell_type": "code",
   "execution_count": 8,
   "metadata": {},
   "outputs": [
    {
     "name": "stdout",
     "output_type": "stream",
     "text": [
      "Cold ❄️\n"
     ]
    }
   ],
   "source": [
    "#6. Temperature Message\n",
    "\n",
    "temp = float(input(\"Enter the temprature in degree : \"))\n",
    "\n",
    "if temp <= 15:\n",
    "    print(\"Cold ❄️\")\n",
    "elif temp <= 30:\n",
    "    print(\"Nice 🌤️\")\n",
    "else:\n",
    "    print(\"Hot 🔥\")"
   ]
  }
 ],
 "metadata": {
  "kernelspec": {
   "display_name": "venv",
   "language": "python",
   "name": "python3"
  },
  "language_info": {
   "codemirror_mode": {
    "name": "ipython",
    "version": 3
   },
   "file_extension": ".py",
   "mimetype": "text/x-python",
   "name": "python",
   "nbconvert_exporter": "python",
   "pygments_lexer": "ipython3",
   "version": "3.13.7"
  },
  "orig_nbformat": 4
 },
 "nbformat": 4,
 "nbformat_minor": 2
}
